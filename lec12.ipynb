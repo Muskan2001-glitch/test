{
 "cells": [
  {
   "cell_type": "markdown",
   "id": "dde0904e",
   "metadata": {},
   "source": [
    "### Chp11\n",
    "### INHERITANCE\n",
    "### Car Example"
   ]
  },
  {
   "cell_type": "code",
   "execution_count": 2,
   "id": "b9774c84",
   "metadata": {},
   "outputs": [],
   "source": [
    "class automobile:\n",
    "    def __init__(self, engine_cc, gear_type, no_doors, no_wheels, colour):\n",
    "        self.__engine_cc = engine_cc\n",
    "        self.__gear_type = gear_type\n",
    "        self.__colour = colour\n",
    "        self.__no_doors = no_doors\n",
    "        self.__no_wheels = no_wheels\n",
    "    \n",
    "    def show_engine(self): #accessor1\n",
    "        print('your engine power is:', self.__engine_cc)\n",
    "        \n",
    "    def show_colour(self): #accessor2\n",
    "         print('your car colour is:', self.__colour)\n",
    "            \n",
    "    def change_gear(self): #mutator1\n",
    "        new_gear_type= input('pls enter new gear type: ')\n",
    "        self.__gear_type= new_gear_type\n",
    "        \n",
    "    def change_colour(self): #mutator2\n",
    "        new_colour= input('please enter new color')\n",
    "        self.__colour= new_colour\n",
    "        \n",
    "    "
   ]
  },
  {
   "cell_type": "code",
   "execution_count": 11,
   "id": "46251a93",
   "metadata": {},
   "outputs": [],
   "source": [
    "car_1= automobile(1300, 'manual', 4, 4, \"green\") ##shift+tab to show the class info\n",
    "bike_1= automobile(125, 'manual', 0, 2, 'red')\n",
    "truck_1= automobile(6000, 'automatic', 4, 20, 'multi')"
   ]
  },
  {
   "cell_type": "code",
   "execution_count": 12,
   "id": "bd7222fe",
   "metadata": {},
   "outputs": [
    {
     "name": "stdout",
     "output_type": "stream",
     "text": [
      "your car colour is: green\n"
     ]
    }
   ],
   "source": [
    "car_1.show_colour()"
   ]
  },
  {
   "cell_type": "code",
   "execution_count": 13,
   "id": "72df89e7",
   "metadata": {},
   "outputs": [
    {
     "name": "stdout",
     "output_type": "stream",
     "text": [
      "your engine power is: 1300\n"
     ]
    }
   ],
   "source": [
    "car_1.show_engine()"
   ]
  },
  {
   "cell_type": "code",
   "execution_count": null,
   "id": "aaa9a8fb",
   "metadata": {},
   "outputs": [],
   "source": []
  },
  {
   "cell_type": "markdown",
   "id": "52278707",
   "metadata": {},
   "source": [
    "## (automobile)-> parent\n",
    "## (child)-> child"
   ]
  },
  {
   "cell_type": "code",
   "execution_count": 17,
   "id": "42ceca89",
   "metadata": {},
   "outputs": [],
   "source": [
    "class toyota_car(automobile): ##by writing the class automobile in paranthesis the previous class will inherit in the new class\n",
    "    def __init__(self, engine_cc, gear_type, no_doors, no_wheels, colour, tpms, radar, no_speaker, air_bags, p_sensors):\n",
    "        automobile.__init__(self, engine_cc, gear_type, no_doors, no_wheels, colour)\n",
    "        \n",
    "        self.__tpms = tpms\n",
    "        self.__radar = radar\n",
    "        self.__no_speaker = no_speaker\n",
    "        self.__air_bags = air_bags\n",
    "        self.__p_sensors = p_sensors\n",
    "    \n",
    "    "
   ]
  },
  {
   "cell_type": "code",
   "execution_count": 19,
   "id": "75d3b9dc",
   "metadata": {},
   "outputs": [],
   "source": [
    "toyota_corolla = toyota_car(1300,'automatic', 4, 4,'kala shah kala', 'yes', 'no', 5, 2, 'no')"
   ]
  },
  {
   "cell_type": "code",
   "execution_count": 23,
   "id": "01cad87e",
   "metadata": {},
   "outputs": [
    {
     "name": "stdout",
     "output_type": "stream",
     "text": [
      "your car colour is: kala shah kala\n"
     ]
    }
   ],
   "source": [
    "toyota_corolla.show_colour()"
   ]
  },
  {
   "cell_type": "markdown",
   "id": "79951c95",
   "metadata": {},
   "source": [
    "## make a class honda_car that inherits automobile class and has three extra features named as sun_roof, power_steering, cruise_control\n",
    "## also define two accessors and mutators func for the child class "
   ]
  },
  {
   "cell_type": "code",
   "execution_count": 28,
   "id": "115fa8fe",
   "metadata": {},
   "outputs": [],
   "source": [
    "class honda_car(automobile):\n",
    "    def __init__(self, engine_cc, gear_type, no_doors, no_wheels, colour, sun_roof, power_steering, cruise_control):\n",
    "        automobile.__init__(self, engine_cc, gear_type, no_doors, no_wheels, colour)\n",
    "        \n",
    "        self.__sun_roof= sun_roof\n",
    "        self.__power_steering= power_steering\n",
    "        self.__cruise_control= cruise_control\n",
    "    \n",
    "    def show_sunroof(self):\n",
    "        print ('car has sunroof:', self.__sun_roof)\n",
    "    \n",
    "    def show_psteering(self):\n",
    "        print('does your car  have power steering', self.__power_steering)\n",
    "    \n",
    "    def change_sunroof(self):\n",
    "        new_sunroof=input('is their a sunroof:')\n",
    "        "
   ]
  },
  {
   "cell_type": "code",
   "execution_count": 33,
   "id": "f7ffc176",
   "metadata": {},
   "outputs": [
    {
     "name": "stdout",
     "output_type": "stream",
     "text": [
      "car has sunroof: yes\n"
     ]
    }
   ],
   "source": [
    "toyota_coo = honda_car(1300,'automatic', 4, 4,'kala shah kala', 'yes', 'no', 'no')\n",
    "toyota_coo.show_sunroof()"
   ]
  },
  {
   "cell_type": "code",
   "execution_count": 26,
   "id": "c6084153",
   "metadata": {},
   "outputs": [],
   "source": [
    "class person:\n",
    "    def __init__(self, name, address, tele_no):\n",
    "        \n",
    "        self.__name= name\n",
    "        self.__address= address\n",
    "        self.__tele_no=tele_no\n",
    "        \n",
    "    def show_name(self):\n",
    "        print('the name of the person is:', self.__name)\n",
    "        \n",
    "    def show_ad(self):\n",
    "        print('the address of the person is:', self.__address)\n",
    "        \n",
    "    def show_TP(self):\n",
    "        print('the phone no. of the person is:', self.__tele_no)\n",
    "    "
   ]
  },
  {
   "cell_type": "code",
   "execution_count": 27,
   "id": "b42bbe62",
   "metadata": {},
   "outputs": [],
   "source": [
    "class customer(person):\n",
    "    def __init__(self, name, address, tele_no, C_num, mail):\n",
    "        person.__init__(self, name, address, tele_no)\n",
    "       \n",
    "        self.__C_num= C_num\n",
    "        self.__mail= mail\n",
    "        \n",
    "    def show_cnum(self):\n",
    "        print('the customer no. is:'. self.__C_num)\n",
    "        \n",
    "    def mail(self):\n",
    "        print('does the customer wish to be part of the mailing list', self.__mail)"
   ]
  },
  {
   "cell_type": "code",
   "execution_count": 31,
   "id": "2ef23190",
   "metadata": {},
   "outputs": [],
   "source": [
    "customer_15=customer('amna', 'strt1', 4562, 78, 'yes')\n",
    "person_2=person('neha','strt19', 9845)"
   ]
  },
  {
   "cell_type": "code",
   "execution_count": 32,
   "id": "b519f194",
   "metadata": {},
   "outputs": [
    {
     "name": "stdout",
     "output_type": "stream",
     "text": [
      "the name of the person is: amna\n"
     ]
    }
   ],
   "source": [
    "customer_15.show_name()"
   ]
  },
  {
   "cell_type": "code",
   "execution_count": 34,
   "id": "8a3f762c",
   "metadata": {},
   "outputs": [
    {
     "name": "stdout",
     "output_type": "stream",
     "text": [
      "the phone no. of the person is: 9845\n"
     ]
    }
   ],
   "source": [
    "person_2.show_TP()"
   ]
  },
  {
   "cell_type": "code",
   "execution_count": null,
   "id": "d51c7021",
   "metadata": {},
   "outputs": [],
   "source": [
    "###Ali's aotomotive shop serices foreign cars and specializes in sercvicing cars made by mercedes"
   ]
  }
 ],
 "metadata": {
  "kernelspec": {
   "display_name": "Python 3 (ipykernel)",
   "language": "python",
   "name": "python3"
  },
  "language_info": {
   "codemirror_mode": {
    "name": "ipython",
    "version": 3
   },
   "file_extension": ".py",
   "mimetype": "text/x-python",
   "name": "python",
   "nbconvert_exporter": "python",
   "pygments_lexer": "ipython3",
   "version": "3.11.5"
  }
 },
 "nbformat": 4,
 "nbformat_minor": 5
}
